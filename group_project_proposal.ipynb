{
 "cells": [
  {
   "cell_type": "markdown",
   "id": "9eed67d5-0b45-4443-8f85-1af6676948e3",
   "metadata": {},
   "source": [
    "Age, Chest Pain, Cholestrol, Resting Blood Pressure\n"
   ]
  },
  {
   "cell_type": "markdown",
   "id": "c5491477-b693-4e4e-a0aa-adf276b8594b",
   "metadata": {
    "tags": []
   },
   "source": [
    "TITLE"
   ]
  },
  {
   "cell_type": "markdown",
   "id": "d05f0ac8-bc3d-4e4c-ad99-2f01cf9f9f2b",
   "metadata": {},
   "source": [
    "Matt Ward, Byeori Kim, Sefeldin Elkemary, Chaitanya Thakral"
   ]
  },
  {
   "cell_type": "code",
   "execution_count": null,
   "id": "6fd7d1a8-6279-4f4f-b3f5-a6f7412394aa",
   "metadata": {},
   "outputs": [],
   "source": []
  },
  {
   "cell_type": "code",
   "execution_count": null,
   "id": "82e542db-e2b0-44ff-9a9f-a6f4429c8fea",
   "metadata": {},
   "outputs": [],
   "source": []
  },
  {
   "cell_type": "code",
   "execution_count": 10,
   "id": "acd87691-2ec2-49d2-889d-74c9952580fa",
   "metadata": {
    "tags": []
   },
   "outputs": [],
   "source": [
    "library(tidyverse)\n",
    "library(tidymodels)\n",
    "library(repr)"
   ]
  },
  {
   "cell_type": "code",
   "execution_count": 11,
   "id": "7910825e-1e68-4e36-aa6c-f072adb56a09",
   "metadata": {
    "tags": []
   },
   "outputs": [],
   "source": [
    "switzerland_data<-read.csv(\"https://raw.githubusercontent.com/byuly/dsci-100-group-project/main/processed.switzerland.data\")\n"
   ]
  }
 ],
 "metadata": {
  "kernelspec": {
   "display_name": "R",
   "language": "R",
   "name": "ir"
  },
  "language_info": {
   "codemirror_mode": "r",
   "file_extension": ".r",
   "mimetype": "text/x-r-source",
   "name": "R",
   "pygments_lexer": "r",
   "version": "4.2.2"
  }
 },
 "nbformat": 4,
 "nbformat_minor": 5
}
