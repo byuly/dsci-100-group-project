{
 "cells": [
  {
   "cell_type": "markdown",
   "id": "9eed67d5-0b45-4443-8f85-1af6676948e3",
   "metadata": {},
   "source": [
    "Age, Chest Pain, Cholestrol, Resting Blood Pressure\n"
   ]
  },
  {
   "cell_type": "markdown",
   "id": "c5491477-b693-4e4e-a0aa-adf276b8594b",
   "metadata": {
    "tags": []
   },
   "source": [
    "TITLE"
   ]
  },
  {
   "cell_type": "markdown",
   "id": "d05f0ac8-bc3d-4e4c-ad99-2f01cf9f9f2b",
   "metadata": {},
   "source": [
    "Matt Ward, Byeori Kim, Seifeldin Elkemary, Chaitanya Thakral"
   ]
  },
  {
   "cell_type": "markdown",
   "id": "85b64d60-1133-4468-b3fa-fc85653395b1",
   "metadata": {
    "tags": []
   },
   "source": [
    "INTRODUCTION"
   ]
  },
  {
   "cell_type": "markdown",
   "id": "b23d454e-8543-4053-9a81-0fbed2fc829d",
   "metadata": {},
   "source": [
    "..."
   ]
  },
  {
   "cell_type": "markdown",
   "id": "ffa7cd28-1b75-4229-bc1c-1961cb075442",
   "metadata": {},
   "source": [
    "Preliminary Exploratory Data Analysis"
   ]
  },
  {
   "cell_type": "code",
   "execution_count": 2,
   "id": "acd87691-2ec2-49d2-889d-74c9952580fa",
   "metadata": {
    "tags": []
   },
   "outputs": [
    {
     "name": "stderr",
     "output_type": "stream",
     "text": [
      "── \u001b[1mAttaching packages\u001b[22m ─────────────────────────────────────── tidyverse 1.3.2 ──\n",
      "\u001b[32m✔\u001b[39m \u001b[34mggplot2\u001b[39m 3.4.2     \u001b[32m✔\u001b[39m \u001b[34mpurrr  \u001b[39m 1.0.1\n",
      "\u001b[32m✔\u001b[39m \u001b[34mtibble \u001b[39m 3.2.1     \u001b[32m✔\u001b[39m \u001b[34mdplyr  \u001b[39m 1.1.1\n",
      "\u001b[32m✔\u001b[39m \u001b[34mtidyr  \u001b[39m 1.3.0     \u001b[32m✔\u001b[39m \u001b[34mstringr\u001b[39m 1.5.0\n",
      "\u001b[32m✔\u001b[39m \u001b[34mreadr  \u001b[39m 2.1.3     \u001b[32m✔\u001b[39m \u001b[34mforcats\u001b[39m 0.5.2\n",
      "── \u001b[1mConflicts\u001b[22m ────────────────────────────────────────── tidyverse_conflicts() ──\n",
      "\u001b[31m✖\u001b[39m \u001b[34mdplyr\u001b[39m::\u001b[32mfilter()\u001b[39m masks \u001b[34mstats\u001b[39m::filter()\n",
      "\u001b[31m✖\u001b[39m \u001b[34mdplyr\u001b[39m::\u001b[32mlag()\u001b[39m    masks \u001b[34mstats\u001b[39m::lag()\n",
      "── \u001b[1mAttaching packages\u001b[22m ────────────────────────────────────── tidymodels 1.0.0 ──\n",
      "\n",
      "\u001b[32m✔\u001b[39m \u001b[34mbroom       \u001b[39m 1.0.2     \u001b[32m✔\u001b[39m \u001b[34mrsample     \u001b[39m 1.1.1\n",
      "\u001b[32m✔\u001b[39m \u001b[34mdials       \u001b[39m 1.1.0     \u001b[32m✔\u001b[39m \u001b[34mtune        \u001b[39m 1.0.1\n",
      "\u001b[32m✔\u001b[39m \u001b[34minfer       \u001b[39m 1.0.4     \u001b[32m✔\u001b[39m \u001b[34mworkflows   \u001b[39m 1.1.2\n",
      "\u001b[32m✔\u001b[39m \u001b[34mmodeldata   \u001b[39m 1.0.1     \u001b[32m✔\u001b[39m \u001b[34mworkflowsets\u001b[39m 1.0.0\n",
      "\u001b[32m✔\u001b[39m \u001b[34mparsnip     \u001b[39m 1.0.3     \u001b[32m✔\u001b[39m \u001b[34myardstick   \u001b[39m 1.1.0\n",
      "\u001b[32m✔\u001b[39m \u001b[34mrecipes     \u001b[39m 1.0.4     \n",
      "\n",
      "── \u001b[1mConflicts\u001b[22m ───────────────────────────────────────── tidymodels_conflicts() ──\n",
      "\u001b[31m✖\u001b[39m \u001b[34mscales\u001b[39m::\u001b[32mdiscard()\u001b[39m masks \u001b[34mpurrr\u001b[39m::discard()\n",
      "\u001b[31m✖\u001b[39m \u001b[34mdplyr\u001b[39m::\u001b[32mfilter()\u001b[39m   masks \u001b[34mstats\u001b[39m::filter()\n",
      "\u001b[31m✖\u001b[39m \u001b[34mrecipes\u001b[39m::\u001b[32mfixed()\u001b[39m  masks \u001b[34mstringr\u001b[39m::fixed()\n",
      "\u001b[31m✖\u001b[39m \u001b[34mdplyr\u001b[39m::\u001b[32mlag()\u001b[39m      masks \u001b[34mstats\u001b[39m::lag()\n",
      "\u001b[31m✖\u001b[39m \u001b[34myardstick\u001b[39m::\u001b[32mspec()\u001b[39m masks \u001b[34mreadr\u001b[39m::spec()\n",
      "\u001b[31m✖\u001b[39m \u001b[34mrecipes\u001b[39m::\u001b[32mstep()\u001b[39m   masks \u001b[34mstats\u001b[39m::step()\n",
      "\u001b[34m•\u001b[39m Use suppressPackageStartupMessages() to eliminate package startup messages\n",
      "\n"
     ]
    }
   ],
   "source": [
    "library(tidyverse)\n",
    "library(tidymodels)\n",
    "library(repr)"
   ]
  },
  {
   "cell_type": "code",
   "execution_count": 42,
   "id": "7910825e-1e68-4e36-aa6c-f072adb56a09",
   "metadata": {
    "tags": []
   },
   "outputs": [
    {
     "name": "stderr",
     "output_type": "stream",
     "text": [
      "\u001b[1mRows: \u001b[22m\u001b[34m123\u001b[39m \u001b[1mColumns: \u001b[22m\u001b[34m14\u001b[39m\n",
      "\u001b[36m──\u001b[39m \u001b[1mColumn specification\u001b[22m \u001b[36m────────────────────────────────────────────────────────\u001b[39m\n",
      "\u001b[1mDelimiter:\u001b[22m \",\"\n",
      "\u001b[31mchr\u001b[39m (9): trestbps, fbs, restecg, thalach, exang, oldpeak, slope, ca, thal\n",
      "\u001b[32mdbl\u001b[39m (5): age, sex, cp, chol, num\n",
      "\n",
      "\u001b[36mℹ\u001b[39m Use `spec()` to retrieve the full column specification for this data.\n",
      "\u001b[36mℹ\u001b[39m Specify the column types or set `show_col_types = FALSE` to quiet this message.\n"
     ]
    },
    {
     "data": {
      "text/html": [
       "<table class=\"dataframe\">\n",
       "<caption>A tibble: 32 × 15</caption>\n",
       "<thead>\n",
       "\t<tr><th scope=col>age</th><th scope=col>sex</th><th scope=col>cp</th><th scope=col>trestbps</th><th scope=col>chol</th><th scope=col>fbs</th><th scope=col>restecg</th><th scope=col>thalach</th><th scope=col>exang</th><th scope=col>oldpeak</th><th scope=col>slope</th><th scope=col>ca</th><th scope=col>thal</th><th scope=col>num</th><th scope=col>diag</th></tr>\n",
       "\t<tr><th scope=col>&lt;dbl&gt;</th><th scope=col>&lt;fct&gt;</th><th scope=col>&lt;fct&gt;</th><th scope=col>&lt;chr&gt;</th><th scope=col>&lt;dbl&gt;</th><th scope=col>&lt;fct&gt;</th><th scope=col>&lt;fct&gt;</th><th scope=col>&lt;chr&gt;</th><th scope=col>&lt;fct&gt;</th><th scope=col>&lt;chr&gt;</th><th scope=col>&lt;fct&gt;</th><th scope=col>&lt;fct&gt;</th><th scope=col>&lt;fct&gt;</th><th scope=col>&lt;dbl&gt;</th><th scope=col>&lt;lgl&gt;</th></tr>\n",
       "</thead>\n",
       "<tbody>\n",
       "\t<tr><td>36</td><td>M</td><td>4</td><td>110</td><td>0</td><td>NA</td><td>0</td><td>125</td><td>1 </td><td>1   </td><td>2 </td><td>NA</td><td>6 </td><td>1</td><td> TRUE</td></tr>\n",
       "\t<tr><td>38</td><td>F</td><td>4</td><td>110</td><td>0</td><td>0 </td><td>0</td><td>156</td><td>0 </td><td>0   </td><td>2 </td><td>NA</td><td>3 </td><td>1</td><td> TRUE</td></tr>\n",
       "\t<tr><td>38</td><td>M</td><td>4</td><td>150</td><td>0</td><td>NA</td><td>0</td><td>120</td><td>1 </td><td>NA  </td><td>NA</td><td>NA</td><td>3 </td><td>1</td><td> TRUE</td></tr>\n",
       "\t<tr><td>42</td><td>M</td><td>4</td><td>105</td><td>0</td><td>NA</td><td>0</td><td>128</td><td>1 </td><td>-1.5</td><td>3 </td><td>NA</td><td>NA</td><td>1</td><td> TRUE</td></tr>\n",
       "\t<tr><td>43</td><td>M</td><td>4</td><td>140</td><td>0</td><td>0 </td><td>1</td><td>140</td><td>1 </td><td>.5  </td><td>1 </td><td>NA</td><td>7 </td><td>2</td><td> TRUE</td></tr>\n",
       "\t<tr><td>47</td><td>M</td><td>3</td><td>155</td><td>0</td><td>0 </td><td>0</td><td>118</td><td>1 </td><td>1   </td><td>2 </td><td>NA</td><td>3 </td><td>3</td><td> TRUE</td></tr>\n",
       "\t<tr><td>47</td><td>M</td><td>4</td><td>110</td><td>0</td><td>NA</td><td>1</td><td>149</td><td>0 </td><td>2.1 </td><td>1 </td><td>NA</td><td>NA</td><td>2</td><td> TRUE</td></tr>\n",
       "\t<tr><td>51</td><td>F</td><td>4</td><td>120</td><td>0</td><td>NA</td><td>0</td><td>127</td><td>1 </td><td>1.5 </td><td>1 </td><td>NA</td><td>NA</td><td>2</td><td> TRUE</td></tr>\n",
       "\t<tr><td>51</td><td>M</td><td>4</td><td>120</td><td>0</td><td>1 </td><td>0</td><td>104</td><td>0 </td><td>0   </td><td>2 </td><td>NA</td><td>3 </td><td>3</td><td> TRUE</td></tr>\n",
       "\t<tr><td>52</td><td>M</td><td>4</td><td>135</td><td>0</td><td>NA</td><td>0</td><td>128</td><td>1 </td><td>2   </td><td>2 </td><td>NA</td><td>7 </td><td>2</td><td> TRUE</td></tr>\n",
       "\t<tr><td>53</td><td>M</td><td>2</td><td>120</td><td>0</td><td>0 </td><td>0</td><td>95 </td><td>0 </td><td>0   </td><td>2 </td><td>NA</td><td>3 </td><td>3</td><td> TRUE</td></tr>\n",
       "\t<tr><td>53</td><td>M</td><td>4</td><td>120</td><td>0</td><td>NA</td><td>0</td><td>120</td><td>0 </td><td>0   </td><td>2 </td><td>NA</td><td>7 </td><td>1</td><td> TRUE</td></tr>\n",
       "\t<tr><td>54</td><td>M</td><td>4</td><td>120</td><td>0</td><td>0 </td><td>0</td><td>155</td><td>0 </td><td>0   </td><td>2 </td><td>NA</td><td>7 </td><td>2</td><td> TRUE</td></tr>\n",
       "\t<tr><td>54</td><td>M</td><td>4</td><td>180</td><td>0</td><td>NA</td><td>0</td><td>150</td><td>0 </td><td>1.5 </td><td>2 </td><td>NA</td><td>7 </td><td>1</td><td> TRUE</td></tr>\n",
       "\t<tr><td>57</td><td>M</td><td>3</td><td>105</td><td>0</td><td>NA</td><td>0</td><td>148</td><td>0 </td><td>.3  </td><td>2 </td><td>NA</td><td>NA</td><td>1</td><td> TRUE</td></tr>\n",
       "\t<tr><td>57</td><td>M</td><td>4</td><td>110</td><td>0</td><td>NA</td><td>1</td><td>131</td><td>1 </td><td>1.4 </td><td>1 </td><td>1 </td><td>NA</td><td>3</td><td> TRUE</td></tr>\n",
       "\t<tr><td>57</td><td>M</td><td>4</td><td>140</td><td>0</td><td>0 </td><td>0</td><td>120</td><td>1 </td><td>2   </td><td>2 </td><td>NA</td><td>6 </td><td>2</td><td> TRUE</td></tr>\n",
       "\t<tr><td>58</td><td>M</td><td>4</td><td>130</td><td>0</td><td>0 </td><td>1</td><td>100</td><td>1 </td><td>1   </td><td>2 </td><td>NA</td><td>6 </td><td>4</td><td> TRUE</td></tr>\n",
       "\t<tr><td>58</td><td>M</td><td>4</td><td>170</td><td>0</td><td>NA</td><td>1</td><td>105</td><td>1 </td><td>0   </td><td>NA</td><td>NA</td><td>3 </td><td>1</td><td> TRUE</td></tr>\n",
       "\t<tr><td>59</td><td>M</td><td>4</td><td>135</td><td>0</td><td>0 </td><td>0</td><td>115</td><td>1 </td><td>1   </td><td>2 </td><td>NA</td><td>7 </td><td>1</td><td> TRUE</td></tr>\n",
       "\t<tr><td>60</td><td>M</td><td>4</td><td>130</td><td>0</td><td>NA</td><td>1</td><td>130</td><td>1 </td><td>1.1 </td><td>3 </td><td>1 </td><td>NA</td><td>1</td><td> TRUE</td></tr>\n",
       "\t<tr><td>61</td><td>M</td><td>3</td><td>200</td><td>0</td><td>NA</td><td>1</td><td>70 </td><td>0 </td><td>0   </td><td>NA</td><td>NA</td><td>3 </td><td>3</td><td> TRUE</td></tr>\n",
       "\t<tr><td>62</td><td>F</td><td>4</td><td>120</td><td>0</td><td>NA</td><td>1</td><td>123</td><td>1 </td><td>1.7 </td><td>3 </td><td>NA</td><td>NA</td><td>1</td><td> TRUE</td></tr>\n",
       "\t<tr><td>62</td><td>M</td><td>3</td><td>160</td><td>0</td><td>0 </td><td>0</td><td>72 </td><td>1 </td><td>0   </td><td>2 </td><td>NA</td><td>3 </td><td>3</td><td> TRUE</td></tr>\n",
       "\t<tr><td>62</td><td>M</td><td>4</td><td>115</td><td>0</td><td>NA</td><td>0</td><td>128</td><td>1 </td><td>2.5 </td><td>3 </td><td>NA</td><td>NA</td><td>2</td><td> TRUE</td></tr>\n",
       "\t<tr><td>63</td><td>M</td><td>4</td><td>100</td><td>0</td><td>NA</td><td>0</td><td>109</td><td>0 </td><td>-.9 </td><td>2 </td><td>NA</td><td>NA</td><td>1</td><td> TRUE</td></tr>\n",
       "\t<tr><td>63</td><td>M</td><td>4</td><td>140</td><td>0</td><td>NA</td><td>2</td><td>149</td><td>0 </td><td>2   </td><td>1 </td><td>NA</td><td>NA</td><td>2</td><td> TRUE</td></tr>\n",
       "\t<tr><td>63</td><td>M</td><td>4</td><td>150</td><td>0</td><td>0 </td><td>0</td><td>86 </td><td>1 </td><td>2   </td><td>2 </td><td>NA</td><td>NA</td><td>3</td><td> TRUE</td></tr>\n",
       "\t<tr><td>65</td><td>M</td><td>4</td><td>155</td><td>0</td><td>NA</td><td>0</td><td>154</td><td>0 </td><td>1   </td><td>1 </td><td>NA</td><td>NA</td><td>0</td><td>FALSE</td></tr>\n",
       "\t<tr><td>66</td><td>F</td><td>4</td><td>155</td><td>0</td><td>NA</td><td>0</td><td>90 </td><td>0 </td><td>0   </td><td>NA</td><td>NA</td><td>7 </td><td>1</td><td> TRUE</td></tr>\n",
       "\t<tr><td>69</td><td>M</td><td>4</td><td>NA </td><td>0</td><td>0 </td><td>1</td><td>NA </td><td>NA</td><td>NA  </td><td>NA</td><td>NA</td><td>7 </td><td>3</td><td> TRUE</td></tr>\n",
       "\t<tr><td>70</td><td>M</td><td>4</td><td>140</td><td>0</td><td>1 </td><td>0</td><td>157</td><td>1 </td><td>2   </td><td>2 </td><td>NA</td><td>7 </td><td>3</td><td> TRUE</td></tr>\n",
       "</tbody>\n",
       "</table>\n"
      ],
      "text/latex": [
       "A tibble: 32 × 15\n",
       "\\begin{tabular}{lllllllllllllll}\n",
       " age & sex & cp & trestbps & chol & fbs & restecg & thalach & exang & oldpeak & slope & ca & thal & num & diag\\\\\n",
       " <dbl> & <fct> & <fct> & <chr> & <dbl> & <fct> & <fct> & <chr> & <fct> & <chr> & <fct> & <fct> & <fct> & <dbl> & <lgl>\\\\\n",
       "\\hline\n",
       "\t 36 & M & 4 & 110 & 0 & NA & 0 & 125 & 1  & 1    & 2  & NA & 6  & 1 &  TRUE\\\\\n",
       "\t 38 & F & 4 & 110 & 0 & 0  & 0 & 156 & 0  & 0    & 2  & NA & 3  & 1 &  TRUE\\\\\n",
       "\t 38 & M & 4 & 150 & 0 & NA & 0 & 120 & 1  & NA   & NA & NA & 3  & 1 &  TRUE\\\\\n",
       "\t 42 & M & 4 & 105 & 0 & NA & 0 & 128 & 1  & -1.5 & 3  & NA & NA & 1 &  TRUE\\\\\n",
       "\t 43 & M & 4 & 140 & 0 & 0  & 1 & 140 & 1  & .5   & 1  & NA & 7  & 2 &  TRUE\\\\\n",
       "\t 47 & M & 3 & 155 & 0 & 0  & 0 & 118 & 1  & 1    & 2  & NA & 3  & 3 &  TRUE\\\\\n",
       "\t 47 & M & 4 & 110 & 0 & NA & 1 & 149 & 0  & 2.1  & 1  & NA & NA & 2 &  TRUE\\\\\n",
       "\t 51 & F & 4 & 120 & 0 & NA & 0 & 127 & 1  & 1.5  & 1  & NA & NA & 2 &  TRUE\\\\\n",
       "\t 51 & M & 4 & 120 & 0 & 1  & 0 & 104 & 0  & 0    & 2  & NA & 3  & 3 &  TRUE\\\\\n",
       "\t 52 & M & 4 & 135 & 0 & NA & 0 & 128 & 1  & 2    & 2  & NA & 7  & 2 &  TRUE\\\\\n",
       "\t 53 & M & 2 & 120 & 0 & 0  & 0 & 95  & 0  & 0    & 2  & NA & 3  & 3 &  TRUE\\\\\n",
       "\t 53 & M & 4 & 120 & 0 & NA & 0 & 120 & 0  & 0    & 2  & NA & 7  & 1 &  TRUE\\\\\n",
       "\t 54 & M & 4 & 120 & 0 & 0  & 0 & 155 & 0  & 0    & 2  & NA & 7  & 2 &  TRUE\\\\\n",
       "\t 54 & M & 4 & 180 & 0 & NA & 0 & 150 & 0  & 1.5  & 2  & NA & 7  & 1 &  TRUE\\\\\n",
       "\t 57 & M & 3 & 105 & 0 & NA & 0 & 148 & 0  & .3   & 2  & NA & NA & 1 &  TRUE\\\\\n",
       "\t 57 & M & 4 & 110 & 0 & NA & 1 & 131 & 1  & 1.4  & 1  & 1  & NA & 3 &  TRUE\\\\\n",
       "\t 57 & M & 4 & 140 & 0 & 0  & 0 & 120 & 1  & 2    & 2  & NA & 6  & 2 &  TRUE\\\\\n",
       "\t 58 & M & 4 & 130 & 0 & 0  & 1 & 100 & 1  & 1    & 2  & NA & 6  & 4 &  TRUE\\\\\n",
       "\t 58 & M & 4 & 170 & 0 & NA & 1 & 105 & 1  & 0    & NA & NA & 3  & 1 &  TRUE\\\\\n",
       "\t 59 & M & 4 & 135 & 0 & 0  & 0 & 115 & 1  & 1    & 2  & NA & 7  & 1 &  TRUE\\\\\n",
       "\t 60 & M & 4 & 130 & 0 & NA & 1 & 130 & 1  & 1.1  & 3  & 1  & NA & 1 &  TRUE\\\\\n",
       "\t 61 & M & 3 & 200 & 0 & NA & 1 & 70  & 0  & 0    & NA & NA & 3  & 3 &  TRUE\\\\\n",
       "\t 62 & F & 4 & 120 & 0 & NA & 1 & 123 & 1  & 1.7  & 3  & NA & NA & 1 &  TRUE\\\\\n",
       "\t 62 & M & 3 & 160 & 0 & 0  & 0 & 72  & 1  & 0    & 2  & NA & 3  & 3 &  TRUE\\\\\n",
       "\t 62 & M & 4 & 115 & 0 & NA & 0 & 128 & 1  & 2.5  & 3  & NA & NA & 2 &  TRUE\\\\\n",
       "\t 63 & M & 4 & 100 & 0 & NA & 0 & 109 & 0  & -.9  & 2  & NA & NA & 1 &  TRUE\\\\\n",
       "\t 63 & M & 4 & 140 & 0 & NA & 2 & 149 & 0  & 2    & 1  & NA & NA & 2 &  TRUE\\\\\n",
       "\t 63 & M & 4 & 150 & 0 & 0  & 0 & 86  & 1  & 2    & 2  & NA & NA & 3 &  TRUE\\\\\n",
       "\t 65 & M & 4 & 155 & 0 & NA & 0 & 154 & 0  & 1    & 1  & NA & NA & 0 & FALSE\\\\\n",
       "\t 66 & F & 4 & 155 & 0 & NA & 0 & 90  & 0  & 0    & NA & NA & 7  & 1 &  TRUE\\\\\n",
       "\t 69 & M & 4 & NA  & 0 & 0  & 1 & NA  & NA & NA   & NA & NA & 7  & 3 &  TRUE\\\\\n",
       "\t 70 & M & 4 & 140 & 0 & 1  & 0 & 157 & 1  & 2    & 2  & NA & 7  & 3 &  TRUE\\\\\n",
       "\\end{tabular}\n"
      ],
      "text/markdown": [
       "\n",
       "A tibble: 32 × 15\n",
       "\n",
       "| age &lt;dbl&gt; | sex &lt;fct&gt; | cp &lt;fct&gt; | trestbps &lt;chr&gt; | chol &lt;dbl&gt; | fbs &lt;fct&gt; | restecg &lt;fct&gt; | thalach &lt;chr&gt; | exang &lt;fct&gt; | oldpeak &lt;chr&gt; | slope &lt;fct&gt; | ca &lt;fct&gt; | thal &lt;fct&gt; | num &lt;dbl&gt; | diag &lt;lgl&gt; |\n",
       "|---|---|---|---|---|---|---|---|---|---|---|---|---|---|---|\n",
       "| 36 | M | 4 | 110 | 0 | NA | 0 | 125 | 1  | 1    | 2  | NA | 6  | 1 |  TRUE |\n",
       "| 38 | F | 4 | 110 | 0 | 0  | 0 | 156 | 0  | 0    | 2  | NA | 3  | 1 |  TRUE |\n",
       "| 38 | M | 4 | 150 | 0 | NA | 0 | 120 | 1  | NA   | NA | NA | 3  | 1 |  TRUE |\n",
       "| 42 | M | 4 | 105 | 0 | NA | 0 | 128 | 1  | -1.5 | 3  | NA | NA | 1 |  TRUE |\n",
       "| 43 | M | 4 | 140 | 0 | 0  | 1 | 140 | 1  | .5   | 1  | NA | 7  | 2 |  TRUE |\n",
       "| 47 | M | 3 | 155 | 0 | 0  | 0 | 118 | 1  | 1    | 2  | NA | 3  | 3 |  TRUE |\n",
       "| 47 | M | 4 | 110 | 0 | NA | 1 | 149 | 0  | 2.1  | 1  | NA | NA | 2 |  TRUE |\n",
       "| 51 | F | 4 | 120 | 0 | NA | 0 | 127 | 1  | 1.5  | 1  | NA | NA | 2 |  TRUE |\n",
       "| 51 | M | 4 | 120 | 0 | 1  | 0 | 104 | 0  | 0    | 2  | NA | 3  | 3 |  TRUE |\n",
       "| 52 | M | 4 | 135 | 0 | NA | 0 | 128 | 1  | 2    | 2  | NA | 7  | 2 |  TRUE |\n",
       "| 53 | M | 2 | 120 | 0 | 0  | 0 | 95  | 0  | 0    | 2  | NA | 3  | 3 |  TRUE |\n",
       "| 53 | M | 4 | 120 | 0 | NA | 0 | 120 | 0  | 0    | 2  | NA | 7  | 1 |  TRUE |\n",
       "| 54 | M | 4 | 120 | 0 | 0  | 0 | 155 | 0  | 0    | 2  | NA | 7  | 2 |  TRUE |\n",
       "| 54 | M | 4 | 180 | 0 | NA | 0 | 150 | 0  | 1.5  | 2  | NA | 7  | 1 |  TRUE |\n",
       "| 57 | M | 3 | 105 | 0 | NA | 0 | 148 | 0  | .3   | 2  | NA | NA | 1 |  TRUE |\n",
       "| 57 | M | 4 | 110 | 0 | NA | 1 | 131 | 1  | 1.4  | 1  | 1  | NA | 3 |  TRUE |\n",
       "| 57 | M | 4 | 140 | 0 | 0  | 0 | 120 | 1  | 2    | 2  | NA | 6  | 2 |  TRUE |\n",
       "| 58 | M | 4 | 130 | 0 | 0  | 1 | 100 | 1  | 1    | 2  | NA | 6  | 4 |  TRUE |\n",
       "| 58 | M | 4 | 170 | 0 | NA | 1 | 105 | 1  | 0    | NA | NA | 3  | 1 |  TRUE |\n",
       "| 59 | M | 4 | 135 | 0 | 0  | 0 | 115 | 1  | 1    | 2  | NA | 7  | 1 |  TRUE |\n",
       "| 60 | M | 4 | 130 | 0 | NA | 1 | 130 | 1  | 1.1  | 3  | 1  | NA | 1 |  TRUE |\n",
       "| 61 | M | 3 | 200 | 0 | NA | 1 | 70  | 0  | 0    | NA | NA | 3  | 3 |  TRUE |\n",
       "| 62 | F | 4 | 120 | 0 | NA | 1 | 123 | 1  | 1.7  | 3  | NA | NA | 1 |  TRUE |\n",
       "| 62 | M | 3 | 160 | 0 | 0  | 0 | 72  | 1  | 0    | 2  | NA | 3  | 3 |  TRUE |\n",
       "| 62 | M | 4 | 115 | 0 | NA | 0 | 128 | 1  | 2.5  | 3  | NA | NA | 2 |  TRUE |\n",
       "| 63 | M | 4 | 100 | 0 | NA | 0 | 109 | 0  | -.9  | 2  | NA | NA | 1 |  TRUE |\n",
       "| 63 | M | 4 | 140 | 0 | NA | 2 | 149 | 0  | 2    | 1  | NA | NA | 2 |  TRUE |\n",
       "| 63 | M | 4 | 150 | 0 | 0  | 0 | 86  | 1  | 2    | 2  | NA | NA | 3 |  TRUE |\n",
       "| 65 | M | 4 | 155 | 0 | NA | 0 | 154 | 0  | 1    | 1  | NA | NA | 0 | FALSE |\n",
       "| 66 | F | 4 | 155 | 0 | NA | 0 | 90  | 0  | 0    | NA | NA | 7  | 1 |  TRUE |\n",
       "| 69 | M | 4 | NA  | 0 | 0  | 1 | NA  | NA | NA   | NA | NA | 7  | 3 |  TRUE |\n",
       "| 70 | M | 4 | 140 | 0 | 1  | 0 | 157 | 1  | 2    | 2  | NA | 7  | 3 |  TRUE |\n",
       "\n"
      ],
      "text/plain": [
       "   age sex cp trestbps chol fbs restecg thalach exang oldpeak slope ca thal num\n",
       "1  36  M   4  110      0    NA  0       125     1     1       2     NA 6    1  \n",
       "2  38  F   4  110      0    0   0       156     0     0       2     NA 3    1  \n",
       "3  38  M   4  150      0    NA  0       120     1     NA      NA    NA 3    1  \n",
       "4  42  M   4  105      0    NA  0       128     1     -1.5    3     NA NA   1  \n",
       "5  43  M   4  140      0    0   1       140     1     .5      1     NA 7    2  \n",
       "6  47  M   3  155      0    0   0       118     1     1       2     NA 3    3  \n",
       "7  47  M   4  110      0    NA  1       149     0     2.1     1     NA NA   2  \n",
       "8  51  F   4  120      0    NA  0       127     1     1.5     1     NA NA   2  \n",
       "9  51  M   4  120      0    1   0       104     0     0       2     NA 3    3  \n",
       "10 52  M   4  135      0    NA  0       128     1     2       2     NA 7    2  \n",
       "11 53  M   2  120      0    0   0       95      0     0       2     NA 3    3  \n",
       "12 53  M   4  120      0    NA  0       120     0     0       2     NA 7    1  \n",
       "13 54  M   4  120      0    0   0       155     0     0       2     NA 7    2  \n",
       "14 54  M   4  180      0    NA  0       150     0     1.5     2     NA 7    1  \n",
       "15 57  M   3  105      0    NA  0       148     0     .3      2     NA NA   1  \n",
       "16 57  M   4  110      0    NA  1       131     1     1.4     1     1  NA   3  \n",
       "17 57  M   4  140      0    0   0       120     1     2       2     NA 6    2  \n",
       "18 58  M   4  130      0    0   1       100     1     1       2     NA 6    4  \n",
       "19 58  M   4  170      0    NA  1       105     1     0       NA    NA 3    1  \n",
       "20 59  M   4  135      0    0   0       115     1     1       2     NA 7    1  \n",
       "21 60  M   4  130      0    NA  1       130     1     1.1     3     1  NA   1  \n",
       "22 61  M   3  200      0    NA  1       70      0     0       NA    NA 3    3  \n",
       "23 62  F   4  120      0    NA  1       123     1     1.7     3     NA NA   1  \n",
       "24 62  M   3  160      0    0   0       72      1     0       2     NA 3    3  \n",
       "25 62  M   4  115      0    NA  0       128     1     2.5     3     NA NA   2  \n",
       "26 63  M   4  100      0    NA  0       109     0     -.9     2     NA NA   1  \n",
       "27 63  M   4  140      0    NA  2       149     0     2       1     NA NA   2  \n",
       "28 63  M   4  150      0    0   0       86      1     2       2     NA NA   3  \n",
       "29 65  M   4  155      0    NA  0       154     0     1       1     NA NA   0  \n",
       "30 66  F   4  155      0    NA  0       90      0     0       NA    NA 7    1  \n",
       "31 69  M   4  NA       0    0   1       NA      NA    NA      NA    NA 7    3  \n",
       "32 70  M   4  140      0    1   0       157     1     2       2     NA 7    3  \n",
       "   diag \n",
       "1   TRUE\n",
       "2   TRUE\n",
       "3   TRUE\n",
       "4   TRUE\n",
       "5   TRUE\n",
       "6   TRUE\n",
       "7   TRUE\n",
       "8   TRUE\n",
       "9   TRUE\n",
       "10  TRUE\n",
       "11  TRUE\n",
       "12  TRUE\n",
       "13  TRUE\n",
       "14  TRUE\n",
       "15  TRUE\n",
       "16  TRUE\n",
       "17  TRUE\n",
       "18  TRUE\n",
       "19  TRUE\n",
       "20  TRUE\n",
       "21  TRUE\n",
       "22  TRUE\n",
       "23  TRUE\n",
       "24  TRUE\n",
       "25  TRUE\n",
       "26  TRUE\n",
       "27  TRUE\n",
       "28  TRUE\n",
       "29 FALSE\n",
       "30  TRUE\n",
       "31  TRUE\n",
       "32  TRUE"
      ]
     },
     "metadata": {},
     "output_type": "display_data"
    }
   ],
   "source": [
    "set.seed(4)\n",
    "switzerland_data<-read_csv(\"https://raw.githubusercontent.com/byuly/dsci-100-group-project/main/processed.switzerland.data\",\n",
    "                col_names = c(\"age\",\"sex\",\"cp\",\"trestbps\",\"chol\",\"fbs\",\"restecg\",\"thalach\",\"exang\",\"oldpeak\",\"slope\",\"ca\",\"thal\",\"num\"))\n",
    "\n",
    "\n",
    "switzerland_data[switzerland_data ==\"?\"]<-NA\n",
    "switzerland_tidy<-switzerland_data|>\n",
    "                    mutate(diag=ifelse(is.na(num),NA,(num > 0)))|>\n",
    "                    mutate(sex= as.factor(sex),cp= as.factor(cp),fbs= as.factor(fbs),restecg= as.factor(restecg),exang= as.factor(exang),thal= as.factor(thal),ca= as.factor(ca),slope= as.factor(slope))|>\n",
    "                    mutate(sex= fct_recode(sex,\"M\" = \"1\", \"F\" = \"0\"))\n",
    "                   \n",
    "\n",
    "switzerland_split<-initial_split(switzerland_tidy,prop = 3/4, strata = num)\n",
    "\n",
    "switzerland_testing<-training(switzerland_split)\n",
    "switzerland_training<-testing(switzerland_split)\n",
    "                    \n",
    "switzerland_training"
   ]
  },
  {
   "cell_type": "code",
   "execution_count": null,
   "id": "91c87d81-075a-4639-baed-7b106ef82a5c",
   "metadata": {},
   "outputs": [],
   "source": []
  }
 ],
 "metadata": {
  "kernelspec": {
   "display_name": "R",
   "language": "R",
   "name": "ir"
  },
  "language_info": {
   "codemirror_mode": "r",
   "file_extension": ".r",
   "mimetype": "text/x-r-source",
   "name": "R",
   "pygments_lexer": "r",
   "version": "4.2.2"
  }
 },
 "nbformat": 4,
 "nbformat_minor": 5
}
