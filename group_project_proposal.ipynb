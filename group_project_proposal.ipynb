{
 "cells": [
  {
   "cell_type": "markdown",
   "id": "9eed67d5-0b45-4443-8f85-1af6676948e3",
   "metadata": {},
   "source": [
    "Age, Chest Pain, Cholestrol, Resting Blood Pressure\n"
   ]
  },
  {
   "cell_type": "code",
   "execution_count": 10,
   "id": "acd87691-2ec2-49d2-889d-74c9952580fa",
   "metadata": {
    "tags": []
   },
   "outputs": [],
   "source": [
    "library(tidyverse)\n",
    "library(tidymodels)\n",
    "library(repr)"
   ]
  },
  {
   "cell_type": "code",
   "execution_count": 11,
   "id": "7910825e-1e68-4e36-aa6c-f072adb56a09",
   "metadata": {
    "tags": []
   },
   "outputs": [],
   "source": [
    "switzerland_data<-read.csv(\"https://raw.githubusercontent.com/byuly/dsci-100-group-project/main/processed.switzerland.data\")\n"
   ]
  }
 ],
 "metadata": {
  "kernelspec": {
   "display_name": "R",
   "language": "R",
   "name": "ir"
  },
  "language_info": {
   "codemirror_mode": "r",
   "file_extension": ".r",
   "mimetype": "text/x-r-source",
   "name": "R",
   "pygments_lexer": "r",
   "version": "4.2.2"
  }
 },
 "nbformat": 4,
 "nbformat_minor": 5
}
